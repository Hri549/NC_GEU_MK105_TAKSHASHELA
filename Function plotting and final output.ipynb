{
 "cells": [
  {
   "cell_type": "code",
   "execution_count": 79,
   "metadata": {},
   "outputs": [],
   "source": [
    "import pandas as pd\n",
    "import numpy as np\n",
    "import matplotlib.pyplot as plt\n",
    "from sklearn.model_selection import train_test_split\n",
    "from sklearn import svm\n",
    "from sklearn.preprocessing import LabelEncoder\n",
    "from sklearn.feature_extraction.text import CountVectorizer\n",
    "import xgboost as xgb\n",
    "import warnings\n",
    "warnings.filterwarnings(\"ignore\")"
   ]
  },
  {
   "cell_type": "code",
   "execution_count": 80,
   "metadata": {},
   "outputs": [],
   "source": [
    "location_encoder=LabelEncoder()\n",
    "Sector_encoder=LabelEncoder()\n",
    "job_encoder=LabelEncoder()\n",
    "Eligibility_encoder=CountVectorizer()\n",
    "data=pd.read_csv(\"DataSet.csv\")"
   ]
  },
  {
   "cell_type": "code",
   "execution_count": 81,
   "metadata": {},
   "outputs": [
    {
     "data": {
      "text/html": [
       "<div>\n",
       "<style scoped>\n",
       "    .dataframe tbody tr th:only-of-type {\n",
       "        vertical-align: middle;\n",
       "    }\n",
       "\n",
       "    .dataframe tbody tr th {\n",
       "        vertical-align: top;\n",
       "    }\n",
       "\n",
       "    .dataframe thead th {\n",
       "        text-align: right;\n",
       "    }\n",
       "</style>\n",
       "<table border=\"1\" class=\"dataframe\">\n",
       "  <thead>\n",
       "    <tr style=\"text-align: right;\">\n",
       "      <th></th>\n",
       "      <th>Unnamed: 0</th>\n",
       "      <th>Location</th>\n",
       "      <th>Job_Description</th>\n",
       "      <th>Sector</th>\n",
       "      <th>Eligibility</th>\n",
       "      <th>salary</th>\n",
       "      <th>Month</th>\n",
       "      <th>vacancies</th>\n",
       "    </tr>\n",
       "  </thead>\n",
       "  <tbody>\n",
       "    <tr>\n",
       "      <th>0</th>\n",
       "      <td>0</td>\n",
       "      <td>DELHI</td>\n",
       "      <td>SALES &amp; MARKETING AGENT</td>\n",
       "      <td>Sales/Retail/Business Development</td>\n",
       "      <td>BTech BE  ME MTech</td>\n",
       "      <td>35000.0</td>\n",
       "      <td>7</td>\n",
       "      <td>8.0</td>\n",
       "    </tr>\n",
       "    <tr>\n",
       "      <th>1</th>\n",
       "      <td>1</td>\n",
       "      <td>BENGALURU</td>\n",
       "      <td>GERMAN TRAINING COORDINATOR</td>\n",
       "      <td>Customer Service/Support</td>\n",
       "      <td>BSc  Diploma</td>\n",
       "      <td>50000.0</td>\n",
       "      <td>9</td>\n",
       "      <td>8.0</td>\n",
       "    </tr>\n",
       "    <tr>\n",
       "      <th>2</th>\n",
       "      <td>2</td>\n",
       "      <td>BENGALURU</td>\n",
       "      <td>PROCESS ENGINEER</td>\n",
       "      <td>Engineering</td>\n",
       "      <td>MPhil PhD</td>\n",
       "      <td>150000.0</td>\n",
       "      <td>7</td>\n",
       "      <td>3.0</td>\n",
       "    </tr>\n",
       "    <tr>\n",
       "      <th>3</th>\n",
       "      <td>3</td>\n",
       "      <td>BENGALURU</td>\n",
       "      <td>SENIOR SOFTWARE ENGINEER</td>\n",
       "      <td>IT/Software Development</td>\n",
       "      <td>BTech BE  ME MTech</td>\n",
       "      <td>60000.0</td>\n",
       "      <td>5</td>\n",
       "      <td>2.0</td>\n",
       "    </tr>\n",
       "    <tr>\n",
       "      <th>4</th>\n",
       "      <td>4</td>\n",
       "      <td>BENGALURU</td>\n",
       "      <td>GRAPHIC DESIGNER</td>\n",
       "      <td>Creative/Design</td>\n",
       "      <td>BDS  MBBS  BAMS</td>\n",
       "      <td>30000.0</td>\n",
       "      <td>7</td>\n",
       "      <td>2.0</td>\n",
       "    </tr>\n",
       "  </tbody>\n",
       "</table>\n",
       "</div>"
      ],
      "text/plain": [
       "   Unnamed: 0   Location                         Job_Description  \\\n",
       "0           0      DELHI                 SALES & MARKETING AGENT   \n",
       "1           1  BENGALURU            GERMAN TRAINING COORDINATOR    \n",
       "2           2  BENGALURU  PROCESS ENGINEER                         \n",
       "3           3  BENGALURU                SENIOR SOFTWARE ENGINEER   \n",
       "4           4  BENGALURU                        GRAPHIC DESIGNER   \n",
       "\n",
       "                              Sector         Eligibility    salary  Month  \\\n",
       "0  Sales/Retail/Business Development  BTech BE  ME MTech   35000.0      7   \n",
       "1           Customer Service/Support        BSc  Diploma   50000.0      9   \n",
       "2                        Engineering           MPhil PhD  150000.0      7   \n",
       "3            IT/Software Development  BTech BE  ME MTech   60000.0      5   \n",
       "4                    Creative/Design     BDS  MBBS  BAMS   30000.0      7   \n",
       "\n",
       "   vacancies  \n",
       "0        8.0  \n",
       "1        8.0  \n",
       "2        3.0  \n",
       "3        2.0  \n",
       "4        2.0  "
      ]
     },
     "execution_count": 81,
     "metadata": {},
     "output_type": "execute_result"
    }
   ],
   "source": [
    "data.head()"
   ]
  },
  {
   "cell_type": "code",
   "execution_count": 94,
   "metadata": {},
   "outputs": [
    {
     "data": {
      "text/html": [
       "<div>\n",
       "<style scoped>\n",
       "    .dataframe tbody tr th:only-of-type {\n",
       "        vertical-align: middle;\n",
       "    }\n",
       "\n",
       "    .dataframe tbody tr th {\n",
       "        vertical-align: top;\n",
       "    }\n",
       "\n",
       "    .dataframe thead th {\n",
       "        text-align: right;\n",
       "    }\n",
       "</style>\n",
       "<table border=\"1\" class=\"dataframe\">\n",
       "  <thead>\n",
       "    <tr style=\"text-align: right;\">\n",
       "      <th></th>\n",
       "      <th>Location</th>\n",
       "      <th>Job_Description</th>\n",
       "      <th>Sector</th>\n",
       "      <th>salary</th>\n",
       "      <th>Month</th>\n",
       "      <th>10th</th>\n",
       "      <th>12th</th>\n",
       "      <th>4th</th>\n",
       "      <th>5th</th>\n",
       "      <th>8th</th>\n",
       "      <th>...</th>\n",
       "      <th>pathology</th>\n",
       "      <th>pg</th>\n",
       "      <th>pgdba</th>\n",
       "      <th>pgdca</th>\n",
       "      <th>pgdm</th>\n",
       "      <th>pharm</th>\n",
       "      <th>phd</th>\n",
       "      <th>professional</th>\n",
       "      <th>science</th>\n",
       "      <th>surgery</th>\n",
       "    </tr>\n",
       "  </thead>\n",
       "  <tbody>\n",
       "    <tr>\n",
       "      <th>0</th>\n",
       "      <td>41</td>\n",
       "      <td>5277</td>\n",
       "      <td>27</td>\n",
       "      <td>35000.0</td>\n",
       "      <td>7</td>\n",
       "      <td>0</td>\n",
       "      <td>0</td>\n",
       "      <td>0</td>\n",
       "      <td>0</td>\n",
       "      <td>0</td>\n",
       "      <td>...</td>\n",
       "      <td>0</td>\n",
       "      <td>0</td>\n",
       "      <td>0</td>\n",
       "      <td>0</td>\n",
       "      <td>0</td>\n",
       "      <td>0</td>\n",
       "      <td>0</td>\n",
       "      <td>0</td>\n",
       "      <td>0</td>\n",
       "      <td>0</td>\n",
       "    </tr>\n",
       "    <tr>\n",
       "      <th>1</th>\n",
       "      <td>22</td>\n",
       "      <td>2446</td>\n",
       "      <td>7</td>\n",
       "      <td>50000.0</td>\n",
       "      <td>9</td>\n",
       "      <td>0</td>\n",
       "      <td>0</td>\n",
       "      <td>0</td>\n",
       "      <td>0</td>\n",
       "      <td>0</td>\n",
       "      <td>...</td>\n",
       "      <td>0</td>\n",
       "      <td>0</td>\n",
       "      <td>0</td>\n",
       "      <td>0</td>\n",
       "      <td>0</td>\n",
       "      <td>0</td>\n",
       "      <td>0</td>\n",
       "      <td>0</td>\n",
       "      <td>0</td>\n",
       "      <td>0</td>\n",
       "    </tr>\n",
       "    <tr>\n",
       "      <th>2</th>\n",
       "      <td>22</td>\n",
       "      <td>4596</td>\n",
       "      <td>10</td>\n",
       "      <td>150000.0</td>\n",
       "      <td>7</td>\n",
       "      <td>0</td>\n",
       "      <td>0</td>\n",
       "      <td>0</td>\n",
       "      <td>0</td>\n",
       "      <td>0</td>\n",
       "      <td>...</td>\n",
       "      <td>0</td>\n",
       "      <td>0</td>\n",
       "      <td>0</td>\n",
       "      <td>0</td>\n",
       "      <td>0</td>\n",
       "      <td>0</td>\n",
       "      <td>1</td>\n",
       "      <td>0</td>\n",
       "      <td>0</td>\n",
       "      <td>0</td>\n",
       "    </tr>\n",
       "    <tr>\n",
       "      <th>3</th>\n",
       "      <td>22</td>\n",
       "      <td>6209</td>\n",
       "      <td>14</td>\n",
       "      <td>60000.0</td>\n",
       "      <td>5</td>\n",
       "      <td>0</td>\n",
       "      <td>0</td>\n",
       "      <td>0</td>\n",
       "      <td>0</td>\n",
       "      <td>0</td>\n",
       "      <td>...</td>\n",
       "      <td>0</td>\n",
       "      <td>0</td>\n",
       "      <td>0</td>\n",
       "      <td>0</td>\n",
       "      <td>0</td>\n",
       "      <td>0</td>\n",
       "      <td>0</td>\n",
       "      <td>0</td>\n",
       "      <td>0</td>\n",
       "      <td>0</td>\n",
       "    </tr>\n",
       "    <tr>\n",
       "      <th>4</th>\n",
       "      <td>22</td>\n",
       "      <td>2482</td>\n",
       "      <td>6</td>\n",
       "      <td>30000.0</td>\n",
       "      <td>7</td>\n",
       "      <td>0</td>\n",
       "      <td>0</td>\n",
       "      <td>0</td>\n",
       "      <td>0</td>\n",
       "      <td>0</td>\n",
       "      <td>...</td>\n",
       "      <td>0</td>\n",
       "      <td>0</td>\n",
       "      <td>0</td>\n",
       "      <td>0</td>\n",
       "      <td>0</td>\n",
       "      <td>0</td>\n",
       "      <td>0</td>\n",
       "      <td>0</td>\n",
       "      <td>0</td>\n",
       "      <td>0</td>\n",
       "    </tr>\n",
       "  </tbody>\n",
       "</table>\n",
       "<p>5 rows × 95 columns</p>\n",
       "</div>"
      ],
      "text/plain": [
       "   Location  Job_Description  Sector    salary  Month  10th  12th  4th  5th  \\\n",
       "0        41             5277      27   35000.0      7     0     0    0    0   \n",
       "1        22             2446       7   50000.0      9     0     0    0    0   \n",
       "2        22             4596      10  150000.0      7     0     0    0    0   \n",
       "3        22             6209      14   60000.0      5     0     0    0    0   \n",
       "4        22             2482       6   30000.0      7     0     0    0    0   \n",
       "\n",
       "   8th  ...  pathology  pg  pgdba  pgdca  pgdm  pharm  phd  professional  \\\n",
       "0    0  ...          0   0      0      0     0      0    0             0   \n",
       "1    0  ...          0   0      0      0     0      0    0             0   \n",
       "2    0  ...          0   0      0      0     0      0    1             0   \n",
       "3    0  ...          0   0      0      0     0      0    0             0   \n",
       "4    0  ...          0   0      0      0     0      0    0             0   \n",
       "\n",
       "   science  surgery  \n",
       "0        0        0  \n",
       "1        0        0  \n",
       "2        0        0  \n",
       "3        0        0  \n",
       "4        0        0  \n",
       "\n",
       "[5 rows x 95 columns]"
      ]
     },
     "execution_count": 94,
     "metadata": {},
     "output_type": "execute_result"
    }
   ],
   "source": [
    "cv=CountVectorizer()\n",
    "#cv.fit_transform(data[\"Eli\"])\n",
    "#salary, job_label,Sector_label,City_label, Education\n",
    "def Convert(df):\n",
    "    encod=df[[\"Location\",\"Job_Description\",\"Sector\",\"salary\",\"Month\"]]\n",
    "    encod[\"Location\"]=location_encoder.fit_transform(df[\"Location\"])\n",
    "    encod[\"Job_Description\"]=job_encoder.fit_transform(df[\"Job_Description\"])\n",
    "    encod[\"Sector\"]=Sector_encoder.fit_transform(df[\"Sector\"])\n",
    "    trans=cv.fit_transform(df[\"Eligibility\"])\n",
    "    trans=pd.DataFrame(trans.todense(),columns=cv.get_feature_names())# Create a dataframe with only Eligibility values\n",
    "    df2=pd.concat([encod,trans],axis=1)\n",
    "    return df2\n",
    "X=Convert(data)\n",
    "X.head()"
   ]
  },
  {
   "cell_type": "code",
   "execution_count": 93,
   "metadata": {},
   "outputs": [
    {
     "data": {
      "text/html": [
       "<div>\n",
       "<style scoped>\n",
       "    .dataframe tbody tr th:only-of-type {\n",
       "        vertical-align: middle;\n",
       "    }\n",
       "\n",
       "    .dataframe tbody tr th {\n",
       "        vertical-align: top;\n",
       "    }\n",
       "\n",
       "    .dataframe thead th {\n",
       "        text-align: right;\n",
       "    }\n",
       "</style>\n",
       "<table border=\"1\" class=\"dataframe\">\n",
       "  <thead>\n",
       "    <tr style=\"text-align: right;\">\n",
       "      <th></th>\n",
       "      <th>Location</th>\n",
       "      <th>Job_Description</th>\n",
       "      <th>Sector</th>\n",
       "      <th>salary</th>\n",
       "      <th>Month</th>\n",
       "      <th>10th</th>\n",
       "      <th>12th</th>\n",
       "      <th>4th</th>\n",
       "      <th>5th</th>\n",
       "      <th>8th</th>\n",
       "      <th>...</th>\n",
       "      <th>pathology</th>\n",
       "      <th>pg</th>\n",
       "      <th>pgdba</th>\n",
       "      <th>pgdca</th>\n",
       "      <th>pgdm</th>\n",
       "      <th>pharm</th>\n",
       "      <th>phd</th>\n",
       "      <th>professional</th>\n",
       "      <th>science</th>\n",
       "      <th>surgery</th>\n",
       "    </tr>\n",
       "  </thead>\n",
       "  <tbody>\n",
       "    <tr>\n",
       "      <th>0</th>\n",
       "      <td>41</td>\n",
       "      <td>5277</td>\n",
       "      <td>10</td>\n",
       "      <td>3000</td>\n",
       "      <td>0</td>\n",
       "      <td>0</td>\n",
       "      <td>0</td>\n",
       "      <td>0</td>\n",
       "      <td>0</td>\n",
       "      <td>0</td>\n",
       "      <td>...</td>\n",
       "      <td>0</td>\n",
       "      <td>0</td>\n",
       "      <td>0</td>\n",
       "      <td>0</td>\n",
       "      <td>0</td>\n",
       "      <td>0</td>\n",
       "      <td>0</td>\n",
       "      <td>0</td>\n",
       "      <td>0</td>\n",
       "      <td>0</td>\n",
       "    </tr>\n",
       "  </tbody>\n",
       "</table>\n",
       "<p>1 rows × 95 columns</p>\n",
       "</div>"
      ],
      "text/plain": [
       "   Location  Job_Description  Sector  salary  Month  10th  12th  4th  5th  \\\n",
       "0        41             5277      10    3000      0     0     0    0    0   \n",
       "\n",
       "   8th  ...  pathology  pg  pgdba  pgdca  pgdm  pharm  phd  professional  \\\n",
       "0    0  ...          0   0      0      0     0      0    0             0   \n",
       "\n",
       "   science  surgery  \n",
       "0        0        0  \n",
       "\n",
       "[1 rows x 95 columns]"
      ]
     },
     "execution_count": 93,
     "metadata": {},
     "output_type": "execute_result"
    }
   ],
   "source": [
    "def fun(salary, job_label,Sector_label,City_label, Education, Month=0):\n",
    "\n",
    "    #Month=0\n",
    "     #encod=df[[\"Location\",\"Job_Description\",\"Sector\",\"Eligibility\",\"salary\",\"Month\"]\n",
    "    education_encoded=cv.transform([Education])\n",
    "\n",
    "    job_int=job_encoder.transform([job_label])#return an array\n",
    "\n",
    "   # print(job_int)\n",
    "\n",
    "    city_int=location_encoder.transform([City_label])\n",
    "\n",
    "    sector_int=Sector_encoder.transform([Sector_label])\n",
    "\n",
    "    df1=pd.DataFrame([[city_int[0],job_int[0],sector_int[0],int(salary),Month]],columns=[\"Location\",\"Job_Description\",\"Sector\",\"salary\",\"Month\"])#give the data frame which have all the labeles variable\n",
    "\n",
    "\n",
    "    df2=pd.DataFrame(education_encoded.todense(),columns=cv.get_feature_names())# gives dataframe by encoding EDUCATION\n",
    "\n",
    "    df1=pd.concat([df1,df2],axis=1)#Combined data frame which is to be predicted\n",
    "\n",
    "    return df1\n",
    "to_predict=fun(\"3000\",\"SALES & MARKETING AGENT\",\"Engineering\",\"DELHI\",\"BTech\")\n",
    "to_predict"
   ]
  },
  {
   "cell_type": "markdown",
   "metadata": {},
   "source": [
    "cv=CountVectorizer()\n",
    "\n",
    "cv.fit_transform(data[\"Eli\"])\n",
    "\n",
    "#salary, job_label,Sector_label,City_label, Education\n",
    "\n",
    "def Convert(df):\n",
    "    df3=pd.DataFrame()\n",
    "    encod=df[[\"Location\",\"Job_Description\",\"Sector\",\"Eligibility\",\"salary\",\"Month\"]\n",
    "    enco = df[[\"salary\",\"job_title\",\"Sector\",\"City\",\"Eli\",\"Month\"]]\n",
    "    enco[\"City_label\"]  = city_encoder.fit_transform(enco[\"City\"])\n",
    "    enco[\"job_label\"] = job_encoder.fit_transform(enco[\"job_title\"])\n",
    "    enco[\"Sector_label\"] = sector_encoder.fit_transform(enco[\"Sector\"])\n",
    "    \n",
    "    df3[\"salary\"]=enco[\"salary\"]\n",
    "    df3[\"Job_label\"]=enco[\"job_label\"]\n",
    "    df3[\"Sector_label\"]=enco[\"Sector_label\"]\n",
    "    df3[\"City_label\"]=enco[\"City_label\"]\n",
    "    df3[\"Month\"]=enco[\"Month\"]\n",
    "    \n",
    "    trans             = cv.fit_transform(enco[\"Eli\"])\n",
    "    trans             = pd.DataFrame(trans.todense(), columns=cv.get_feature_names())\n",
    "    df3              = pd.concat([df3,trans],axis = 1)\n",
    "    \n",
    "    #enco              = enco.drop([\"Eli\",\"job_title\",\"Sector\",\"City\"],axis = 1)\n",
    "    return df3\n",
    "X = Convert(data)\n",
    "X.head()"
   ]
  },
  {
   "cell_type": "code",
   "execution_count": 6,
   "metadata": {},
   "outputs": [],
   "source": [
    "#to_predict.head()"
   ]
  },
  {
   "cell_type": "code",
   "execution_count": 91,
   "metadata": {},
   "outputs": [
    {
     "data": {
      "text/html": [
       "<div>\n",
       "<style scoped>\n",
       "    .dataframe tbody tr th:only-of-type {\n",
       "        vertical-align: middle;\n",
       "    }\n",
       "\n",
       "    .dataframe tbody tr th {\n",
       "        vertical-align: top;\n",
       "    }\n",
       "\n",
       "    .dataframe thead th {\n",
       "        text-align: right;\n",
       "    }\n",
       "</style>\n",
       "<table border=\"1\" class=\"dataframe\">\n",
       "  <thead>\n",
       "    <tr style=\"text-align: right;\">\n",
       "      <th></th>\n",
       "      <th>Location</th>\n",
       "      <th>Job_Description</th>\n",
       "      <th>Sector</th>\n",
       "      <th>salary</th>\n",
       "      <th>Month</th>\n",
       "      <th>10th</th>\n",
       "      <th>12th</th>\n",
       "      <th>4th</th>\n",
       "      <th>5th</th>\n",
       "      <th>8th</th>\n",
       "      <th>...</th>\n",
       "      <th>pathology</th>\n",
       "      <th>pg</th>\n",
       "      <th>pgdba</th>\n",
       "      <th>pgdca</th>\n",
       "      <th>pgdm</th>\n",
       "      <th>pharm</th>\n",
       "      <th>phd</th>\n",
       "      <th>professional</th>\n",
       "      <th>science</th>\n",
       "      <th>surgery</th>\n",
       "    </tr>\n",
       "  </thead>\n",
       "  <tbody>\n",
       "    <tr>\n",
       "      <th>0</th>\n",
       "      <td>41</td>\n",
       "      <td>5277</td>\n",
       "      <td>10</td>\n",
       "      <td>3000</td>\n",
       "      <td>0</td>\n",
       "      <td>0</td>\n",
       "      <td>0</td>\n",
       "      <td>0</td>\n",
       "      <td>0</td>\n",
       "      <td>0</td>\n",
       "      <td>...</td>\n",
       "      <td>0</td>\n",
       "      <td>0</td>\n",
       "      <td>0</td>\n",
       "      <td>0</td>\n",
       "      <td>0</td>\n",
       "      <td>0</td>\n",
       "      <td>0</td>\n",
       "      <td>0</td>\n",
       "      <td>0</td>\n",
       "      <td>0</td>\n",
       "    </tr>\n",
       "  </tbody>\n",
       "</table>\n",
       "<p>1 rows × 95 columns</p>\n",
       "</div>"
      ],
      "text/plain": [
       "   Location  Job_Description  Sector  salary  Month  10th  12th  4th  5th  \\\n",
       "0        41             5277      10    3000      0     0     0    0    0   \n",
       "\n",
       "   8th  ...  pathology  pg  pgdba  pgdca  pgdm  pharm  phd  professional  \\\n",
       "0    0  ...          0   0      0      0     0      0    0             0   \n",
       "\n",
       "   science  surgery  \n",
       "0        0        0  \n",
       "\n",
       "[1 rows x 95 columns]"
      ]
     },
     "execution_count": 91,
     "metadata": {},
     "output_type": "execute_result"
    }
   ],
   "source": [
    "def fun(salary, job_label,Sector_label,City_label, Education, Month=0):\n",
    "\n",
    "    #Month=0\n",
    "     #encod=df[[\"Location\",\"Job_Description\",\"Sector\",\"Eligibility\",\"salary\",\"Month\"]\n",
    "    education_encoded=cv.transform([Education])\n",
    "\n",
    "    job_int=job_encoder.transform([job_label])#return an array\n",
    "\n",
    "   # print(job_int)\n",
    "\n",
    "    city_int=location_encoder.transform([City_label])\n",
    "\n",
    "    sector_int=Sector_encoder.transform([Sector_label])\n",
    "\n",
    "    df1=pd.DataFrame([[city_int[0],job_int[0],sector_int[0],int(salary),Month]],columns=[\"Location\",\"Job_Description\",\"Sector\",\"salary\",\"Month\"])#give the data frame which have all the labeles variable\n",
    "\n",
    "\n",
    "    df2=pd.DataFrame(education_encoded.todense(),columns=cv.get_feature_names())# gives dataframe by encoding EDUCATION\n",
    "\n",
    "    df1=pd.concat([df1,df2],axis=1)#Combined data frame which is to be predicted\n",
    "\n",
    "    return df1\n",
    "to_predict=fun(\"3000\",\"SALES & MARKETING AGENT\",\"Engineering\",\"DELHI\",\"BTech\")\n",
    "to_predict"
   ]
  },
  {
   "cell_type": "markdown",
   "metadata": {},
   "source": [
    "#cv=CountVectorizer()\n",
    "\n",
    "#cv.fit_transform(data[\"Eli\"])\n",
    "\n",
    "def fun(salary, job_label,Sector_label,City_label, Education, Month=0):\n",
    "    \n",
    "    #Month=0\n",
    "     #encod=df[[\"Location\",\"Job_Description\",\"Sector\",\"Eligibility\",\"salary\",\"Month\"]\n",
    "    education_encoded=cv.transform([Education])\n",
    "    \n",
    "    job_int=job_encoder.transform([job_label])#return an array\n",
    "    \n",
    "   # print(job_int)\n",
    "    \n",
    "    city_int=location_encoder.transform([City_label])\n",
    "    \n",
    "    sector_int=Sector_encoder.transform([Sector_label])\n",
    "    \n",
    "    df1=pd.DataFrame([[city_int[0],job_int[0],sector_int[0],int(salary),Month]],columns=[\"Location\",\"Job_Description\",\"Sector\",\"salary\",\"Month\"])#give the data frame which have all the labeles variable\n",
    "        \n",
    "    \n",
    "    df2=pd.DataFrame(education_encoded.todense(),columns=cv.get_feature_names())# gives dataframe by encoding EDUCATION\n",
    "    \n",
    "    df1=pd.concat([df1,df2],axis=1)#Combined data frame which is to be predicted\n",
    "    \n",
    "    return df1\n",
    "to_predict=fun(\"3000\",\"SALES & MARKETING AGENT\",\"Engineering\",\"DELHI\",\"BTech\")\n"
   ]
  },
  {
   "cell_type": "code",
   "execution_count": null,
   "metadata": {},
   "outputs": [],
   "source": []
  },
  {
   "cell_type": "code",
   "execution_count": 84,
   "metadata": {},
   "outputs": [
    {
     "data": {
      "text/html": [
       "<div>\n",
       "<style scoped>\n",
       "    .dataframe tbody tr th:only-of-type {\n",
       "        vertical-align: middle;\n",
       "    }\n",
       "\n",
       "    .dataframe tbody tr th {\n",
       "        vertical-align: top;\n",
       "    }\n",
       "\n",
       "    .dataframe thead th {\n",
       "        text-align: right;\n",
       "    }\n",
       "</style>\n",
       "<table border=\"1\" class=\"dataframe\">\n",
       "  <thead>\n",
       "    <tr style=\"text-align: right;\">\n",
       "      <th></th>\n",
       "      <th>Location</th>\n",
       "      <th>Job_Description</th>\n",
       "      <th>Sector</th>\n",
       "      <th>salary</th>\n",
       "      <th>Month</th>\n",
       "      <th>10th</th>\n",
       "      <th>12th</th>\n",
       "      <th>4th</th>\n",
       "      <th>5th</th>\n",
       "      <th>8th</th>\n",
       "      <th>...</th>\n",
       "      <th>pathology</th>\n",
       "      <th>pg</th>\n",
       "      <th>pgdba</th>\n",
       "      <th>pgdca</th>\n",
       "      <th>pgdm</th>\n",
       "      <th>pharm</th>\n",
       "      <th>phd</th>\n",
       "      <th>professional</th>\n",
       "      <th>science</th>\n",
       "      <th>surgery</th>\n",
       "    </tr>\n",
       "  </thead>\n",
       "  <tbody>\n",
       "    <tr>\n",
       "      <th>0</th>\n",
       "      <td>41</td>\n",
       "      <td>5277</td>\n",
       "      <td>10</td>\n",
       "      <td>3000</td>\n",
       "      <td>0</td>\n",
       "      <td>0</td>\n",
       "      <td>0</td>\n",
       "      <td>0</td>\n",
       "      <td>0</td>\n",
       "      <td>0</td>\n",
       "      <td>...</td>\n",
       "      <td>0</td>\n",
       "      <td>0</td>\n",
       "      <td>0</td>\n",
       "      <td>0</td>\n",
       "      <td>0</td>\n",
       "      <td>0</td>\n",
       "      <td>0</td>\n",
       "      <td>0</td>\n",
       "      <td>0</td>\n",
       "      <td>0</td>\n",
       "    </tr>\n",
       "  </tbody>\n",
       "</table>\n",
       "<p>1 rows × 95 columns</p>\n",
       "</div>"
      ],
      "text/plain": [
       "   Location  Job_Description  Sector  salary  Month  10th  12th  4th  5th  \\\n",
       "0        41             5277      10    3000      0     0     0    0    0   \n",
       "\n",
       "   8th  ...  pathology  pg  pgdba  pgdca  pgdm  pharm  phd  professional  \\\n",
       "0    0  ...          0   0      0      0     0      0    0             0   \n",
       "\n",
       "   science  surgery  \n",
       "0        0        0  \n",
       "\n",
       "[1 rows x 95 columns]"
      ]
     },
     "execution_count": 84,
     "metadata": {},
     "output_type": "execute_result"
    }
   ],
   "source": [
    "to_predict"
   ]
  },
  {
   "cell_type": "markdown",
   "metadata": {},
   "source": [
    "## XGBOOST"
   ]
  },
  {
   "cell_type": "code",
   "execution_count": 10,
   "metadata": {},
   "outputs": [
    {
     "data": {
      "text/plain": [
       "0.4318847355012473"
      ]
     },
     "execution_count": 10,
     "metadata": {},
     "output_type": "execute_result"
    }
   ],
   "source": [
    "\n",
    "from xgboost import XGBRFRegressor\n",
    "model1=xgb.XGBRegressor()\n",
    "\n",
    "X_train,X_test,y_train,y_test=train_test_split(X,data[\"vacancies\"],random_state=0)\n",
    "model1.fit(X_train,y_train)\n",
    "model1.score(X_test,y_test)\n"
   ]
  },
  {
   "cell_type": "code",
   "execution_count": 11,
   "metadata": {},
   "outputs": [
    {
     "name": "stdout",
     "output_type": "stream",
     "text": [
      "5.8046\n",
      "13.830943568679615\n"
     ]
    }
   ],
   "source": [
    "from sklearn import metrics \n",
    "import math\n",
    "Y_pred=model1.predict(X_test)\n",
    "LogReg = round(model1.score(X_test, y_test), 2) \n",
    "mae_lr = round(metrics.mean_absolute_error(y_test, Y_pred), 4) \n",
    "mse_lr = round(metrics.mean_squared_error(y_test, Y_pred), 4) \n",
    "print(mae_lr)\n",
    "print(math.sqrt(mse_lr))"
   ]
  },
  {
   "cell_type": "markdown",
   "metadata": {},
   "source": [
    "## KNN"
   ]
  },
  {
   "cell_type": "code",
   "execution_count": 12,
   "metadata": {},
   "outputs": [
    {
     "data": {
      "text/plain": [
       "0.3425371820958373"
      ]
     },
     "execution_count": 12,
     "metadata": {},
     "output_type": "execute_result"
    }
   ],
   "source": [
    "from sklearn.neighbors import KNeighborsRegressor\n",
    "knr=KNeighborsRegressor()\n",
    "knr.fit(X_train,y_train)\n",
    "knr.score(X_test,y_test)"
   ]
  },
  {
   "cell_type": "code",
   "execution_count": 13,
   "metadata": {},
   "outputs": [
    {
     "name": "stdout",
     "output_type": "stream",
     "text": [
      "5.8438\n",
      "14.878844041120937\n"
     ]
    }
   ],
   "source": [
    "Y_pred=knr.predict(X_test)\n",
    "LogReg = round(knr.score(X_test, y_test), 2) \n",
    "mae_lr = round(metrics.mean_absolute_error(y_test, Y_pred), 4) \n",
    "mse_lr = round(metrics.mean_squared_error(y_test, Y_pred), 4) \n",
    "print(mae_lr)\n",
    "print(math.sqrt(mse_lr))"
   ]
  },
  {
   "cell_type": "markdown",
   "metadata": {},
   "source": [
    "## Random Forest"
   ]
  },
  {
   "cell_type": "code",
   "execution_count": 14,
   "metadata": {},
   "outputs": [
    {
     "data": {
      "text/plain": [
       "0.36505888931971076"
      ]
     },
     "execution_count": 14,
     "metadata": {},
     "output_type": "execute_result"
    }
   ],
   "source": [
    "from sklearn.ensemble import RandomForestRegressor\n",
    "rdc=RandomForestRegressor()\n",
    "rdc.fit(X_train,y_train)\n",
    "rdc.score(X_test,y_test)"
   ]
  },
  {
   "cell_type": "code",
   "execution_count": 15,
   "metadata": {},
   "outputs": [
    {
     "name": "stdout",
     "output_type": "stream",
     "text": [
      "5.8477\n",
      "14.62178169718041\n"
     ]
    }
   ],
   "source": [
    "Y_pred=rdc.predict(X_test)\n",
    "LogReg = round(rdc.score(X_test, y_test), 2) \n",
    "mae_lr = round(metrics.mean_absolute_error(y_test, Y_pred), 4) \n",
    "mse_lr = round(metrics.mean_squared_error(y_test, Y_pred), 4) \n",
    "print(mae_lr)\n",
    "print(math.sqrt(mse_lr))"
   ]
  },
  {
   "cell_type": "markdown",
   "metadata": {},
   "source": [
    "## Naive Bayes "
   ]
  },
  {
   "cell_type": "code",
   "execution_count": 16,
   "metadata": {},
   "outputs": [
    {
     "data": {
      "text/plain": [
       "0.06154603643525357"
      ]
     },
     "execution_count": 16,
     "metadata": {},
     "output_type": "execute_result"
    }
   ],
   "source": [
    "from sklearn.naive_bayes import MultinomialNB\n",
    "mb=MultinomialNB()\n",
    "mb.fit(X_train,y_train)\n",
    "mb.score(X_test,y_test)"
   ]
  },
  {
   "cell_type": "code",
   "execution_count": 17,
   "metadata": {},
   "outputs": [
    {
     "name": "stdout",
     "output_type": "stream",
     "text": [
      "19.7698\n",
      "29.96287369395666\n"
     ]
    }
   ],
   "source": [
    "Y_pred=mb.predict(X_test)\n",
    "LogReg = round(mb.score(X_test, y_test), 2) \n",
    "mae_lr = round(metrics.mean_absolute_error(y_test, Y_pred), 4) \n",
    "mse_lr = round(metrics.mean_squared_error(y_test, Y_pred), 4) \n",
    "print(mae_lr)\n",
    "print(math.sqrt(mse_lr))"
   ]
  },
  {
   "cell_type": "markdown",
   "metadata": {},
   "source": [
    "## Decision Regressor"
   ]
  },
  {
   "cell_type": "code",
   "execution_count": 18,
   "metadata": {},
   "outputs": [
    {
     "data": {
      "text/plain": [
       "-0.042792147716830486"
      ]
     },
     "execution_count": 18,
     "metadata": {},
     "output_type": "execute_result"
    }
   ],
   "source": [
    "from sklearn.tree import DecisionTreeRegressor\n",
    "dcr=DecisionTreeRegressor()\n",
    "dcr.fit(X_train,y_train)\n",
    "dcr.score(X_test,y_test)"
   ]
  },
  {
   "cell_type": "code",
   "execution_count": 19,
   "metadata": {},
   "outputs": [
    {
     "name": "stdout",
     "output_type": "stream",
     "text": [
      "6.3103\n",
      "18.73839907782946\n"
     ]
    }
   ],
   "source": [
    "Y_pred=dcr.predict(X_test)\n",
    "LogReg = round(dcr.score(X_test, y_test), 2) \n",
    "mae_lr = round(metrics.mean_absolute_error(y_test, Y_pred), 4) \n",
    "mse_lr = round(metrics.mean_squared_error(y_test, Y_pred), 4) \n",
    "print(mae_lr)\n",
    "print(math.sqrt(mse_lr))"
   ]
  },
  {
   "cell_type": "markdown",
   "metadata": {},
   "source": [
    "## Linear"
   ]
  },
  {
   "cell_type": "code",
   "execution_count": 20,
   "metadata": {},
   "outputs": [
    {
     "data": {
      "text/plain": [
       "0.0373123441793507"
      ]
     },
     "execution_count": 20,
     "metadata": {},
     "output_type": "execute_result"
    }
   ],
   "source": [
    "from sklearn.linear_model import LinearRegression\n",
    "lr=LinearRegression()\n",
    "lr.fit(X_train,y_train)\n",
    "lr.score(X_test,y_test)"
   ]
  },
  {
   "cell_type": "code",
   "execution_count": 21,
   "metadata": {},
   "outputs": [
    {
     "name": "stdout",
     "output_type": "stream",
     "text": [
      "8.8911\n",
      "18.004302263625767\n"
     ]
    }
   ],
   "source": [
    "Y_pred=lr.predict(X_test)\n",
    "LogReg = round(lr.score(X_test, y_test), 2) \n",
    "mae_lr = round(metrics.mean_absolute_error(y_test, Y_pred), 4) \n",
    "mse_lr = round(metrics.mean_squared_error(y_test, Y_pred), 4) \n",
    "print(mae_lr)\n",
    "print(math.sqrt(mse_lr))"
   ]
  },
  {
   "cell_type": "markdown",
   "metadata": {},
   "source": [
    "## Logsitic"
   ]
  },
  {
   "cell_type": "code",
   "execution_count": 22,
   "metadata": {},
   "outputs": [
    {
     "data": {
      "text/plain": [
       "0.4250184683575474"
      ]
     },
     "execution_count": 22,
     "metadata": {},
     "output_type": "execute_result"
    }
   ],
   "source": [
    "from sklearn.linear_model import LogisticRegression\n",
    "lr=LogisticRegression()\n",
    "lr.fit(X_train,y_train)\n",
    "lr.score(X_train,y_train)"
   ]
  },
  {
   "cell_type": "code",
   "execution_count": 23,
   "metadata": {},
   "outputs": [
    {
     "name": "stdout",
     "output_type": "stream",
     "text": [
      "6.0935\n",
      "19.335095034677227\n"
     ]
    }
   ],
   "source": [
    "Y_pred=lr.predict(X_test)\n",
    "LogReg = round(lr.score(X_test, y_test), 2) \n",
    "mae_lr = round(metrics.mean_absolute_error(y_test, Y_pred), 4) \n",
    "mse_lr = round(metrics.mean_squared_error(y_test, Y_pred), 4) \n",
    "print(mae_lr)\n",
    "print(math.sqrt(mse_lr))"
   ]
  },
  {
   "cell_type": "markdown",
   "metadata": {},
   "source": [
    "## SVR"
   ]
  },
  {
   "cell_type": "code",
   "execution_count": 24,
   "metadata": {},
   "outputs": [
    {
     "data": {
      "text/plain": [
       "-0.003224421052831383"
      ]
     },
     "execution_count": 24,
     "metadata": {},
     "output_type": "execute_result"
    }
   ],
   "source": [
    "svr=svm.SVR()\n",
    "svr.fit(X_train,y_train)\n",
    "svr.score(X_test,y_test)\n"
   ]
  },
  {
   "cell_type": "code",
   "execution_count": 25,
   "metadata": {},
   "outputs": [
    {
     "name": "stdout",
     "output_type": "stream",
     "text": [
      "5.6247\n",
      "18.379455922306295\n"
     ]
    }
   ],
   "source": [
    "Y_pred=svr.predict(X_test)\n",
    "LogReg = round(svr.score(X_test, y_test), 2) \n",
    "mae_lr = round(metrics.mean_absolute_error(y_test, Y_pred), 4) \n",
    "mse_lr = round(metrics.mean_squared_error(y_test, Y_pred), 4) \n",
    "print(mae_lr)\n",
    "print(math.sqrt(mse_lr))"
   ]
  },
  {
   "cell_type": "markdown",
   "metadata": {},
   "source": [
    "## Plotting Function"
   ]
  },
  {
   "cell_type": "code",
   "execution_count": 30,
   "metadata": {},
   "outputs": [],
   "source": [
    "def add_month():\n",
    "    lst=[]\n",
    "    for i in range(1,13):\n",
    "        X=fun(\"3000\",\"SALES & MARKETING AGENT\",\"Engineering\",\"DELHI\",\"BTech\",i)\n",
    "        ans=model1.predict(X)\n",
    "        ar=round(ans[0])\n",
    "        lst.append(ar)\n",
    "    return lst\n",
    "vac=add_month()\n"
   ]
  },
  {
   "cell_type": "code",
   "execution_count": 31,
   "metadata": {
    "scrolled": false
   },
   "outputs": [
    {
     "data": {
      "text/plain": [
       "[4.0, 4.0, 4.0, 4.0, 4.0, 18.0, 6.0, 6.0, 6.0, 6.0, 6.0, 6.0]"
      ]
     },
     "execution_count": 31,
     "metadata": {},
     "output_type": "execute_result"
    }
   ],
   "source": [
    "vac"
   ]
  },
  {
   "cell_type": "code",
   "execution_count": 39,
   "metadata": {},
   "outputs": [
    {
     "data": {
      "text/plain": [
       "Text(0, 0.5, 'Future Vacancies')"
      ]
     },
     "execution_count": 39,
     "metadata": {},
     "output_type": "execute_result"
    },
    {
     "data": {
      "image/png": "[encoded data removed]",
      "text/plain": [
       "<Figure size 432x288 with 1 Axes>"
      ]
     },
     "metadata": {},
     "output_type": "display_data"
    }
   ],
   "source": [
    "month=[x for x in range(1,13)]\n",
    "plt.style.use(\"fivethirtyeight\")\n",
    "plt.plot(month,vac)\n",
    "plt.xticks(month)\n",
    "plt.xlabel(\"Month\")\n",
    "plt.ylabel(\"Future Vacancies\")##This graph shows final output for vacancy"
   ]
  },
  {
   "cell_type": "code",
   "execution_count": null,
   "metadata": {},
   "outputs": [],
   "source": [
    "def plot():\n",
    "    month=[x for x in range(1,13)]\n",
    "    plt.plot(vac,month)\n",
    "    plt.xtick(month)\n",
    "    plt.xlabel(\"Month\")\n",
    "    plt.ylabel(\"Future Vacancies\")\n",
    "    plt.savefig(\"Month_vs_Vac.png\")\n",
    "    "
   ]
  },
  {
   "cell_type": "code",
   "execution_count": 40,
   "metadata": {},
   "outputs": [
    {
     "data": {
      "text/plain": [
       "7.110680209295167"
      ]
     },
     "execution_count": 40,
     "metadata": {},
     "output_type": "execute_result"
    }
   ],
   "source": [
    "data[\"vacancies\"].mean()"
   ]
  },
  {
   "cell_type": "markdown",
   "metadata": {},
   "source": [
    "## Plotting Top 20 Cities"
   ]
  },
  {
   "cell_type": "code",
   "execution_count": 76,
   "metadata": {},
   "outputs": [],
   "source": [
    "from collections import Counter\n",
    "\n",
    "def city_plot():\n",
    "    label=[]\n",
    "    count=[]\n",
    "    for i in range(20):\n",
    "        label.append(Counter(data[\"Location\"]).most_common(20)[i][0])\n",
    "        count.append(Counter(data[\"Location\"]).most_common(20)[i][1])\n",
    "        plt.bar(label,count)\n",
    "        plt.xlabel(\"Locations\")\n",
    "        plt.ylabel(\"Job Opportunity\")\n",
    "        plt.ylim(0,100)\n",
    "        plt.label(\"Top 20 Locations For Jobs\")\n",
    "        plt.xticks(rotation=60,fontsize=8)\n",
    "        plt.figure(figsize=(10,10))\n",
    "        plt.savefig(\"City_vs_vac.png\")"
   ]
  },
  {
   "cell_type": "markdown",
   "metadata": {},
   "source": [
    "## Plotting Top 20 sectors"
   ]
  },
  {
   "cell_type": "code",
   "execution_count": 75,
   "metadata": {},
   "outputs": [],
   "source": [
    "def sector_plot():\n",
    "    label=[]\n",
    "    count=[]\n",
    "    for i in range(20):\n",
    "        \n",
    "        label.append(Counter(data[\"Sector\"]).most_common(20)[i][0])\n",
    "        count.append(Counter(data[\"Sector\"]).most_common(20)[i][1])\n",
    "        plt.bar(label,count)\n",
    "        plt.xlabel(\"Sector\")\n",
    "        plt.ylabel(\"Job Opportunity\")\n",
    "        #plt.ylim(0,100)\n",
    "        plt.label(\"Top 20 Sector For Job\")\n",
    "        plt.xticks(rotation=60,fontsize=8)\n",
    "        plt.figure(figsize=(10,10))\n",
    "        plt.savefig(\"Sector_vs_vac.png\")"
   ]
  },
  {
   "cell_type": "markdown",
   "metadata": {},
   "source": [
    "## Plotting Top 20 Professions"
   ]
  },
  {
   "cell_type": "code",
   "execution_count": 78,
   "metadata": {
    "scrolled": false
   },
   "outputs": [],
   "source": [
    "def profession_plot():\n",
    "    for i in range(20):\n",
    "        label=[]\n",
    "        count=[]\n",
    "        \n",
    "        city.append(Counter(data[\"Job_Description\"]).most_common(20)[i][0])\n",
    "    \n",
    "        count.append(Counter(data[\"Job_Description\"]).most_common(20)[i][1])\n",
    "        \n",
    "        plt.bar(label,count)\n",
    "        \n",
    "        plt.xlabel(\"Sector\")\n",
    "        plt.ylabel(\"Job Opportunity\")\n",
    "        #plt.ylim(0,100)\n",
    "        plt.label(\"Top 20 Profession For Job\")\n",
    "        plt.xticks(rotation=60,fontsize=8)\n",
    "        plt.figure(figsize=(10,10))\n",
    "        plt.savefig(\"Profession_vs_vac.png\")"
   ]
  },
  {
   "cell_type": "code",
   "execution_count": null,
   "metadata": {},
   "outputs": [],
   "source": []
  },
  {
   "cell_type": "code",
   "execution_count": null,
   "metadata": {},
   "outputs": [],
   "source": []
  }
 ],
 "metadata": {
  "kernelspec": {
   "display_name": "Python 3",
   "language": "python",
   "name": "python3"
  },
  "language_info": {
   "codemirror_mode": {
    "name": "ipython",
    "version": 3
   },
   "file_extension": ".py",
   "mimetype": "text/x-python",
   "name": "python",
   "nbconvert_exporter": "python",
   "pygments_lexer": "ipython3",
   "version": "3.7.4"
  }
 },
 "nbformat": 4,
 "nbformat_minor": 2
}
