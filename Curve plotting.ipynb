{
 "cells": [
  {
   "cell_type": "code",
   "execution_count": 12,
   "metadata": {},
   "outputs": [],
   "source": [
    "import pandas as pd\n",
    "import numpy as np\n",
    "from sklearn.preprocessing import LabelEncoder\n",
    "import warnings\n",
    "warnings.filterwarnings(\"ignore\")\n",
    "\n",
    "    # load libraries\n",
    "import numpy as np\n",
    "from sklearn.ensemble import RandomForestRegressor\n",
    "from xgboost import XGBRegressor\n",
    "import matplotlib.pyplot as plt\n",
    "\n",
    "plt.style.use('ggplot')\n",
    "from sklearn import datasets\n",
    "import matplotlib.pyplot as plt\n",
    "from sklearn.model_selection import learning_curve"
   ]
  },
  {
   "cell_type": "code",
   "execution_count": 13,
   "metadata": {},
   "outputs": [],
   "source": [
    "from sklearn.feature_extraction.text import CountVectorizer\n",
    "location_encoder=LabelEncoder()\n",
    "Sector_encoder=LabelEncoder()\n",
    "job_encoder=LabelEncoder()\n",
    "cv=CountVectorizer()\n",
    "data=pd.read_csv(\"DataSet.csv\")"
   ]
  },
  {
   "cell_type": "code",
   "execution_count": 14,
   "metadata": {},
   "outputs": [],
   "source": [
    "def Convert(df):\n",
    "    encod=df[[\"Location\",\"Job_Description\",\"salary\",\"Month\"]]\n",
    "    encod[\"Location\"]=location_encoder.fit_transform(df[\"Location\"])\n",
    "    encod[\"Job_Description\"]=job_encoder.fit_transform(df[\"Job_Description\"])\n",
    "    encod[\"Sector\"]=Sector_encoder.fit_transform(df[\"Sector\"])\n",
    "    trans=cv.fit_transform(df[\"Eligibility\"])\n",
    "    trans=pd.DataFrame(trans.todense(),columns=cv.get_feature_names())# Create a dataframe with only Eligibility values\n",
    "    df2=pd.concat([encod,trans],axis=1)\n",
    "    return df2\n",
    "X=Convert(data)"
   ]
  },
  {
   "cell_type": "code",
   "execution_count": 10,
   "metadata": {},
   "outputs": [],
   "source": [
    "y=data[\"vacancies\"]\n"
   ]
  },
  {
   "cell_type": "code",
   "execution_count": 16,
   "metadata": {},
   "outputs": [],
   "source": [
    "model=RandomForestRegressor()"
   ]
  },
  {
   "cell_type": "code",
   "execution_count": null,
   "metadata": {},
   "outputs": [],
   "source": []
  },
  {
   "cell_type": "code",
   "execution_count": 24,
   "metadata": {},
   "outputs": [],
   "source": [
    "train_sizes, train_scores, test_scores = learning_curve(model,\n",
    "                                               X, y, cv=10, scoring= 'neg_mean_squared_error', n_jobs=-1,\n",
    "                                               # 50 different sizes of the training set\n",
    "                                               train_sizes=np.linspace(0.01, 1.0, 50))\n",
    "\n",
    "    # Create means and standard deviations of training set scores\n",
    "train_mean = np.mean(train_scores, axis=1)\n",
    "train_std = np.std(train_scores, axis=1)\n",
    "\n",
    "    # Create means and standard deviations of test set scores\n",
    "test_mean = np.mean(test_scores, axis=1)\n",
    "test_std = np.std(test_scores, axis=1)\n"
   ]
  },
  {
   "cell_type": "code",
   "execution_count": 27,
   "metadata": {},
   "outputs": [
    {
     "name": "stdout",
     "output_type": "stream",
     "text": [
      "Mean training scores\n",
      "\n",
      " 146      104.328884\n",
      "441       91.930796\n",
      "736       79.530321\n",
      "1032      78.784661\n",
      "1327      74.164950\n",
      "1623      71.624120\n",
      "1918      69.492507\n",
      "2213      68.775879\n",
      "2509      61.254272\n",
      "2804      59.255760\n",
      "3100      59.173497\n",
      "3395      56.972355\n",
      "3690      56.028490\n",
      "3986      54.365632\n",
      "4281      53.691493\n",
      "4576      55.084682\n",
      "4872      53.430423\n",
      "5167      51.605498\n",
      "5463      50.964650\n",
      "5758      49.519111\n",
      "6053      48.324284\n",
      "6349      47.905389\n",
      "6644      46.169383\n",
      "6940      46.248704\n",
      "7235      44.619869\n",
      "7530      44.610831\n",
      "7826      44.470030\n",
      "8121      43.445443\n",
      "8416      42.170842\n",
      "8712      42.415095\n",
      "9007      41.729244\n",
      "9303      41.578937\n",
      "9598      41.461384\n",
      "9893      41.255625\n",
      "10189     41.207784\n",
      "10484     40.036636\n",
      "10780     40.304656\n",
      "11075     38.922021\n",
      "11370     39.321697\n",
      "11666     37.919144\n",
      "11961     37.731604\n",
      "12256     37.988984\n",
      "12552     38.068034\n",
      "12847     37.870950\n",
      "13143     37.511809\n",
      "13438     37.732388\n",
      "13733     37.497468\n",
      "14029     37.076964\n",
      "14324     36.805363\n",
      "14620     36.500568\n",
      "dtype: float64\n",
      "\n",
      " --------------------\n",
      "\n",
      "Mean validation scores\n",
      "\n",
      " 146      429.316609\n",
      "441      322.058510\n",
      "736      319.703497\n",
      "1032     315.179190\n",
      "1327     301.693200\n",
      "1623     311.419808\n",
      "1918     302.493089\n",
      "2213     297.456163\n",
      "2509     288.881529\n",
      "2804     286.480687\n",
      "3100     280.109399\n",
      "3395     267.022681\n",
      "3690     271.202468\n",
      "3986     267.535951\n",
      "4281     259.494587\n",
      "4576     263.589617\n",
      "4872     264.564932\n",
      "5167     260.910467\n",
      "5463     254.439728\n",
      "5758     254.971125\n",
      "6053     252.589814\n",
      "6349     252.268063\n",
      "6644     257.865604\n",
      "6940     244.105145\n",
      "7235     245.148986\n",
      "7530     245.839899\n",
      "7826     244.509486\n",
      "8121     243.806957\n",
      "8416     242.407025\n",
      "8712     246.756573\n",
      "9007     234.505960\n",
      "9303     239.504134\n",
      "9598     233.373593\n",
      "9893     232.474120\n",
      "10189    232.258486\n",
      "10484    236.205592\n",
      "10780    234.747399\n",
      "11075    237.145545\n",
      "11370    227.638543\n",
      "11666    230.752309\n",
      "11961    225.184677\n",
      "12256    226.553180\n",
      "12552    221.939122\n",
      "12847    221.255779\n",
      "13143    227.108876\n",
      "13438    224.550009\n",
      "13733    219.914224\n",
      "14029    224.443551\n",
      "14324    226.159571\n",
      "14620    224.302577\n",
      "dtype: float64\n"
     ]
    }
   ],
   "source": [
    "train_scores_mean = -train_scores.mean(axis = 1)\n",
    "test_scores_mean = -test_scores.mean(axis =1 )\n",
    "print('Mean training scores\\n\\n', pd.Series(train_scores_mean, index = train_sizes))\n",
    "print('\\n', '-' * 20) # separator\n",
    "print('\\nMean validation scores\\n\\n',pd.Series(test_scores_mean, index = train_sizes))"
   ]
  },
  {
   "cell_type": "code",
   "execution_count": 33,
   "metadata": {},
   "outputs": [
    {
     "data": {
      "text/plain": [
       "<matplotlib.legend.Legend at 0x7f9c7590cb10>"
      ]
     },
     "execution_count": 33,
     "metadata": {},
     "output_type": "execute_result"
    },
    {
     "data": {
      "image/png": "[encoded data removed]",
      "text/plain": [
       "<Figure size 576x396 with 1 Axes>"
      ]
     },
     "metadata": {},
     "output_type": "display_data"
    }
   ],
   "source": [
    "plt.style.use('seaborn')\n",
    "plt.plot(train_sizes, train_scores_mean, label = 'Training error')\n",
    "plt.plot(train_sizes, test_scores_mean, label = 'Validation error')\n",
    "plt.ylabel('MSE', fontsize = 14)\n",
    "plt.xlabel('Training set size', fontsize = 14)\n",
    "plt.title('Learning curves for a Random Forest Regression model', fontsize = 18, y = 1.03)\n",
    "plt.legend()"
   ]
  },
  {
   "cell_type": "markdown",
   "metadata": {},
   "source": [
    "## Indication of Graph"
   ]
  },
  {
   "cell_type": "markdown",
   "metadata": {},
   "source": [
    "The graph indicates low bias and Significant Variance, Which can be Solved by adding More data to it. But since This case can be solved Threfore it is not worst "
   ]
  },
  {
   "cell_type": "code",
   "execution_count": 31,
   "metadata": {},
   "outputs": [],
   "source": [
    "model1=XGBRegressor()"
   ]
  },
  {
   "cell_type": "code",
   "execution_count": 34,
   "metadata": {},
   "outputs": [],
   "source": [
    "train_sizes, train_scores, test_scores = learning_curve(model1,\n",
    "                                               X, y, cv=10, scoring= 'neg_mean_squared_error', n_jobs=-1,\n",
    "                                               # 50 different sizes of the training set\n",
    "                                               train_sizes=np.linspace(0.01, 1.0, 50))\n",
    "\n",
    "    # Create means and standard deviations of training set scores\n",
    "train_mean = np.mean(train_scores, axis=1)\n",
    "train_std = np.std(train_scores, axis=1)\n",
    "\n",
    "    # Create means and standard deviations of test set scores\n",
    "test_mean = np.mean(test_scores, axis=1)\n",
    "test_std = np.std(test_scores, axis=1)\n"
   ]
  },
  {
   "cell_type": "code",
   "execution_count": 38,
   "metadata": {},
   "outputs": [
    {
     "name": "stdout",
     "output_type": "stream",
     "text": [
      "Mean training scores\n",
      "\n",
      " 146       0.003230\n",
      "441       0.392777\n",
      "736       3.346267\n",
      "1032      9.546834\n",
      "1327     13.704655\n",
      "1623     19.354806\n",
      "1918     20.767722\n",
      "2213     29.146461\n",
      "2509     35.222502\n",
      "2804     40.816657\n",
      "3100     46.580658\n",
      "3395     48.567580\n",
      "3690     48.432273\n",
      "3986     61.208321\n",
      "4281     54.104746\n",
      "4576     64.758269\n",
      "4872     68.204340\n",
      "5167     62.475036\n",
      "5463     61.465333\n",
      "5758     60.642018\n",
      "6053     63.706324\n",
      "6349     62.782401\n",
      "6644     60.338612\n",
      "6940     61.132845\n",
      "7235     63.204773\n",
      "7530     63.384524\n",
      "7826     64.951961\n",
      "8121     64.533807\n",
      "8416     69.091400\n",
      "8712     65.125344\n",
      "9007     65.957768\n",
      "9303     71.519035\n",
      "9598     68.602213\n",
      "9893     68.174994\n",
      "10189    70.758598\n",
      "10484    70.942283\n",
      "10780    71.868873\n",
      "11075    71.947011\n",
      "11370    72.600468\n",
      "11666    71.559694\n",
      "11961    71.539221\n",
      "12256    72.391427\n",
      "12552    73.476941\n",
      "12847    72.965043\n",
      "13143    73.497185\n",
      "13438    73.448172\n",
      "13733    73.086785\n",
      "14029    74.857393\n",
      "14324    72.937172\n",
      "14620    73.807761\n",
      "dtype: float64\n",
      "\n",
      " --------------------\n",
      "\n",
      "Mean validation scores\n",
      "\n",
      " 146      436.889408\n",
      "441      350.335988\n",
      "736      343.120110\n",
      "1032     326.274197\n",
      "1327     332.717008\n",
      "1623     322.407575\n",
      "1918     322.009837\n",
      "2213     298.475293\n",
      "2509     295.084634\n",
      "2804     281.568902\n",
      "3100     280.931405\n",
      "3395     264.428057\n",
      "3690     266.807585\n",
      "3986     258.991294\n",
      "4281     255.448761\n",
      "4576     257.856574\n",
      "4872     252.463032\n",
      "5167     250.725013\n",
      "5463     248.438892\n",
      "5758     250.185533\n",
      "6053     244.920439\n",
      "6349     243.093753\n",
      "6644     237.318528\n",
      "6940     236.456778\n",
      "7235     237.954048\n",
      "7530     238.648203\n",
      "7826     235.142270\n",
      "8121     234.926991\n",
      "8416     235.178626\n",
      "8712     232.304430\n",
      "9007     229.945873\n",
      "9303     230.181455\n",
      "9598     225.104366\n",
      "9893     226.537863\n",
      "10189    228.797066\n",
      "10484    226.143692\n",
      "10780    220.406324\n",
      "11075    224.096296\n",
      "11370    220.202052\n",
      "11666    220.202872\n",
      "11961    218.533645\n",
      "12256    213.762352\n",
      "12552    213.914358\n",
      "12847    216.455292\n",
      "13143    213.286859\n",
      "13438    215.735546\n",
      "13733    213.480680\n",
      "14029    210.543322\n",
      "14324    210.923046\n",
      "14620    208.714182\n",
      "dtype: float64\n"
     ]
    }
   ],
   "source": [
    "train_scores_mean = -train_scores.mean(axis = 1)\n",
    "test_scores_mean = -test_scores.mean(axis =1 )\n",
    "print('Mean training scores\\n\\n', pd.Series(train_scores_mean, index = train_sizes))\n",
    "print('\\n', '-' * 20) # separator\n",
    "print('\\nMean validation scores\\n\\n',pd.Series(test_scores_mean, index = train_sizes))"
   ]
  },
  {
   "cell_type": "code",
   "execution_count": 41,
   "metadata": {},
   "outputs": [
    {
     "data": {
      "text/plain": [
       "<matplotlib.legend.Legend at 0x7f9c7509ef50>"
      ]
     },
     "execution_count": 41,
     "metadata": {},
     "output_type": "execute_result"
    },
    {
     "data": {
      "image/png": "[encoded data removed]",
      "text/plain": [
       "<Figure size 576x396 with 1 Axes>"
      ]
     },
     "metadata": {},
     "output_type": "display_data"
    }
   ],
   "source": [
    "plt.style.use('seaborn')\n",
    "plt.plot(train_sizes, train_scores_mean, label = 'Training error')\n",
    "plt.plot(train_sizes, test_scores_mean, label = 'Validation error')\n",
    "plt.ylabel('MSE', fontsize = 14)\n",
    "plt.xlabel('Training set size', fontsize = 14)\n",
    "plt.title('Learning curves for a Xgboost Regression model', fontsize = 18, y = 1.03)\n",
    "plt.legend()"
   ]
  },
  {
   "cell_type": "code",
   "execution_count": null,
   "metadata": {},
   "outputs": [],
   "source": []
  }
 ],
 "metadata": {
  "kernelspec": {
   "display_name": "Python 3",
   "language": "python",
   "name": "python3"
  },
  "language_info": {
   "codemirror_mode": {
    "name": "ipython",
    "version": 3
   },
   "file_extension": ".py",
   "mimetype": "text/x-python",
   "name": "python",
   "nbconvert_exporter": "python",
   "pygments_lexer": "ipython3",
   "version": "3.7.4"
  }
 },
 "nbformat": 4,
 "nbformat_minor": 2
}
