{
 "cells": [
  {
   "cell_type": "code",
   "execution_count": 2,
   "metadata": {},
   "outputs": [],
   "source": [
    "import pandas as pd\n",
    "data = pd.read_csv('DataSet.csv')"
   ]
  },
  {
   "cell_type": "code",
   "execution_count": 3,
   "metadata": {},
   "outputs": [
    {
     "data": {
      "text/html": [
       "<div>\n",
       "<style scoped>\n",
       "    .dataframe tbody tr th:only-of-type {\n",
       "        vertical-align: middle;\n",
       "    }\n",
       "\n",
       "    .dataframe tbody tr th {\n",
       "        vertical-align: top;\n",
       "    }\n",
       "\n",
       "    .dataframe thead th {\n",
       "        text-align: right;\n",
       "    }\n",
       "</style>\n",
       "<table border=\"1\" class=\"dataframe\">\n",
       "  <thead>\n",
       "    <tr style=\"text-align: right;\">\n",
       "      <th></th>\n",
       "      <th>Unnamed: 0</th>\n",
       "      <th>Location</th>\n",
       "      <th>Job_Description</th>\n",
       "      <th>Sector</th>\n",
       "      <th>Eligibility</th>\n",
       "      <th>salary</th>\n",
       "      <th>Month</th>\n",
       "      <th>vacancies</th>\n",
       "    </tr>\n",
       "  </thead>\n",
       "  <tbody>\n",
       "    <tr>\n",
       "      <th>0</th>\n",
       "      <td>0</td>\n",
       "      <td>DELHI</td>\n",
       "      <td>SALES &amp; MARKETING AGENT</td>\n",
       "      <td>Sales/Retail/Business Development</td>\n",
       "      <td>BTech BE  ME MTech</td>\n",
       "      <td>35000.0</td>\n",
       "      <td>7</td>\n",
       "      <td>8.0</td>\n",
       "    </tr>\n",
       "    <tr>\n",
       "      <th>1</th>\n",
       "      <td>1</td>\n",
       "      <td>BENGALURU</td>\n",
       "      <td>GERMAN TRAINING COORDINATOR</td>\n",
       "      <td>Customer Service/Support</td>\n",
       "      <td>BSc  Diploma</td>\n",
       "      <td>50000.0</td>\n",
       "      <td>9</td>\n",
       "      <td>8.0</td>\n",
       "    </tr>\n",
       "    <tr>\n",
       "      <th>2</th>\n",
       "      <td>2</td>\n",
       "      <td>BENGALURU</td>\n",
       "      <td>PROCESS ENGINEER</td>\n",
       "      <td>Engineering</td>\n",
       "      <td>MPhil PhD</td>\n",
       "      <td>150000.0</td>\n",
       "      <td>7</td>\n",
       "      <td>3.0</td>\n",
       "    </tr>\n",
       "    <tr>\n",
       "      <th>3</th>\n",
       "      <td>3</td>\n",
       "      <td>BENGALURU</td>\n",
       "      <td>SENIOR SOFTWARE ENGINEER</td>\n",
       "      <td>IT/Software Development</td>\n",
       "      <td>BTech BE  ME MTech</td>\n",
       "      <td>60000.0</td>\n",
       "      <td>5</td>\n",
       "      <td>2.0</td>\n",
       "    </tr>\n",
       "    <tr>\n",
       "      <th>4</th>\n",
       "      <td>4</td>\n",
       "      <td>BENGALURU</td>\n",
       "      <td>GRAPHIC DESIGNER</td>\n",
       "      <td>Creative/Design</td>\n",
       "      <td>BDS  MBBS  BAMS</td>\n",
       "      <td>30000.0</td>\n",
       "      <td>7</td>\n",
       "      <td>2.0</td>\n",
       "    </tr>\n",
       "  </tbody>\n",
       "</table>\n",
       "</div>"
      ],
      "text/plain": [
       "   Unnamed: 0   Location                         Job_Description  \\\n",
       "0           0      DELHI                 SALES & MARKETING AGENT   \n",
       "1           1  BENGALURU            GERMAN TRAINING COORDINATOR    \n",
       "2           2  BENGALURU  PROCESS ENGINEER                         \n",
       "3           3  BENGALURU                SENIOR SOFTWARE ENGINEER   \n",
       "4           4  BENGALURU                        GRAPHIC DESIGNER   \n",
       "\n",
       "                              Sector         Eligibility    salary  Month  \\\n",
       "0  Sales/Retail/Business Development  BTech BE  ME MTech   35000.0      7   \n",
       "1           Customer Service/Support        BSc  Diploma   50000.0      9   \n",
       "2                        Engineering           MPhil PhD  150000.0      7   \n",
       "3            IT/Software Development  BTech BE  ME MTech   60000.0      5   \n",
       "4                    Creative/Design     BDS  MBBS  BAMS   30000.0      7   \n",
       "\n",
       "   vacancies  \n",
       "0        8.0  \n",
       "1        8.0  \n",
       "2        3.0  \n",
       "3        2.0  \n",
       "4        2.0  "
      ]
     },
     "execution_count": 3,
     "metadata": {},
     "output_type": "execute_result"
    }
   ],
   "source": [
    "data.head()"
   ]
  },
  {
   "cell_type": "code",
   "execution_count": 5,
   "metadata": {},
   "outputs": [],
   "source": [
    "from sklearn.preprocessing import LabelEncoder\n",
    "from sklearn.feature_extraction.text import CountVectorizer"
   ]
  },
  {
   "cell_type": "code",
   "execution_count": null,
   "metadata": {},
   "outputs": [],
   "source": [
    "le = LabelEncoder()\n",
    "cv = CountVectorizer()"
   ]
  },
  {
   "cell_type": "code",
   "execution_count": 4,
   "metadata": {},
   "outputs": [
    {
     "data": {
      "text/plain": [
       "<bound method Series.unique of 0            DELHI\n",
       "1        BENGALURU\n",
       "2        BENGALURU\n",
       "3        BENGALURU\n",
       "4        BENGALURU\n",
       "           ...    \n",
       "16240    BENGALURU\n",
       "16241     QALYUBIA\n",
       "16242    BENGALURU\n",
       "16243    BENGALURU\n",
       "16244    BENGALURU\n",
       "Name: Location, Length: 16245, dtype: object>"
      ]
     },
     "execution_count": 4,
     "metadata": {},
     "output_type": "execute_result"
    }
   ],
   "source": [
    "data[\"Location\"].unique"
   ]
  },
  {
   "cell_type": "code",
   "execution_count": null,
   "metadata": {},
   "outputs": [],
   "source": []
  }
 ],
 "metadata": {
  "kernelspec": {
   "display_name": "Python 3",
   "language": "python",
   "name": "python3"
  },
  "language_info": {
   "codemirror_mode": {
    "name": "ipython",
    "version": 3
   },
   "file_extension": ".py",
   "mimetype": "text/x-python",
   "name": "python",
   "nbconvert_exporter": "python",
   "pygments_lexer": "ipython3",
   "version": "3.6.9"
  }
 },
 "nbformat": 4,
 "nbformat_minor": 4
}
